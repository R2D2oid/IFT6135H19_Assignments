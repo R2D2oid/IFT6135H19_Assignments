{
 "cells": [
  {
   "cell_type": "code",
   "execution_count": 2,
   "metadata": {
    "colab": {
     "base_uri": "https://localhost:8080/",
     "height": 51
    },
    "colab_type": "code",
    "id": "JbyI7S-_-osO",
    "outputId": "5b93ae2c-747a-4a93-cc6b-82e26fa3d6a9"
   },
   "outputs": [
    {
     "name": "stdout",
     "output_type": "stream",
     "text": [
      "IFT6135H19_Assignment_1_P1.ipynb  mnist_dataset  MNIST_download.ipynb\n",
      "mkdir: cannot create directory ‘mnist_dataset’: File exists\n",
      "IFT6135H19_Assignment_1_P1.ipynb  mnist_dataset  MNIST_download.ipynb\n"
     ]
    }
   ],
   "source": [
    "!ls \n",
    "!mkdir mnist_dataset\n",
    "!ls"
   ]
  },
  {
   "cell_type": "code",
   "execution_count": 3,
   "metadata": {
    "colab": {},
    "colab_type": "code",
    "id": "g6Ziyi8i9nc1"
   },
   "outputs": [],
   "source": [
    "from urllib.request import urlretrieve\n",
    "import pickle\n",
    "import gzip\n",
    "import os\n",
    "import numpy as np\n"
   ]
  },
  {
   "cell_type": "code",
   "execution_count": 4,
   "metadata": {
    "colab": {},
    "colab_type": "code",
    "id": "uPX_0WAg-IVo"
   },
   "outputs": [],
   "source": [
    "path = 'http://deeplearning.net/data/mnist'\n",
    "mnist_filename_all = 'mnist.pkl'\n",
    "local_filename = os.path.join('mnist_dataset', mnist_filename_all)\n",
    "urlretrieve(\"{}/{}.gz\".format(path,mnist_filename_all), local_filename+'.gz')\n",
    "tr,va,te = pickle.load(gzip.open(local_filename+'.gz','r'), encoding='iso-8859-1')\n",
    "np.save(open('mnist_dataset/mnist.npy','wb'), (tr,va,te))\n"
   ]
  }
 ],
 "metadata": {
  "colab": {
   "name": "MNIST-download.ipynb",
   "provenance": [],
   "version": "0.3.2"
  },
  "kernelspec": {
   "display_name": "Python 3",
   "language": "python",
   "name": "python3"
  },
  "language_info": {
   "codemirror_mode": {
    "name": "ipython",
    "version": 3
   },
   "file_extension": ".py",
   "mimetype": "text/x-python",
   "name": "python",
   "nbconvert_exporter": "python",
   "pygments_lexer": "ipython3",
   "version": "3.5.2"
  }
 },
 "nbformat": 4,
 "nbformat_minor": 1
}
