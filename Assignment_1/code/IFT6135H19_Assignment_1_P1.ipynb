{
 "cells": [
  {
   "cell_type": "markdown",
   "metadata": {},
   "source": [
    "### Please run MNIST_download.ipynb to download, pre-process, and store all the necessary data in mnist_dataset folder"
   ]
  },
  {
   "cell_type": "code",
   "execution_count": 1,
   "metadata": {
    "colab": {
     "base_uri": "https://localhost:8080/",
     "height": 34
    },
    "colab_type": "code",
    "id": "W7UoFBoCFPKA",
    "outputId": "6af02037-73fe-4983-dd01-e57581659594"
   },
   "outputs": [
    {
     "name": "stdout",
     "output_type": "stream",
     "text": [
      "IFT6135H19_A1_Pc_no_change.png\t  mnist_dataset\r\n",
      "IFT6135H19_A1_Pc.png\t\t  MNIST_download.ipynb\r\n",
      "IFT6135H19_Assignment_1_P1.ipynb  mnist_experiments\r\n"
     ]
    }
   ],
   "source": [
    "!ls"
   ]
  },
  {
   "cell_type": "code",
   "execution_count": 2,
   "metadata": {
    "colab": {},
    "colab_type": "code",
    "id": "bFgiqz8yYmng"
   },
   "outputs": [],
   "source": [
    "#!pip install git+https://github.com/agoose77/numpy-html.git#egg=numpy-html\n",
    "#import numpy_html\n",
    "import numpy as np\n",
    "import matplotlib.pyplot as plt\n",
    "import os\n",
    "import pickle\n",
    "#np.set_printoptions(threshold=5, edgeitems=2)"
   ]
  },
  {
   "cell_type": "markdown",
   "metadata": {},
   "source": [
    "# Part-1,2,3) Multi-Layer Perceptron in Numpy"
   ]
  },
  {
   "cell_type": "markdown",
   "metadata": {},
   "source": [
    "## A) Helper Function for Neural Network Implementation"
   ]
  },
  {
   "cell_type": "markdown",
   "metadata": {},
   "source": [
    "### 1) Affine Layer Forward and Backward pass"
   ]
  },
  {
   "cell_type": "code",
   "execution_count": 3,
   "metadata": {
    "colab": {},
    "colab_type": "code",
    "id": "aYky0piO1K9T"
   },
   "outputs": [],
   "source": [
    "def Affine_forward(inp, W, B):\n",
    "  # Params, inp: Input to Layer : (NxD)\n",
    "  #         W: weight of Layer  : (DxM)\n",
    "  #         B  Bias of Layer    : (1xM)\n",
    "  # Output, out = inp*W + B     : (NxM) \n",
    "\n",
    "  out = np.dot(inp,W) + B  # out: (NxD)x(D,M) + (1,M) = (N,M)\n",
    "\n",
    "  return out"
   ]
  },
  {
   "cell_type": "code",
   "execution_count": 4,
   "metadata": {
    "colab": {},
    "colab_type": "code",
    "id": "Zk1CumTAx7mo"
   },
   "outputs": [],
   "source": [
    "def Affine_backward(inp, W, B, gradient):\n",
    "  # Assume, inp                         : (NxD)\n",
    "  #         W                           : (DxM)\n",
    "  #         B                           : (1XM)\n",
    "  #         gradient                    : (NxM)\n",
    "  #         reg regulazier scaler       : (1x1)  \n",
    "  # Output, Dinp = gradient*Traspose(T) : (NxD)\n",
    "  #         DW = Traspose(inp)*gradient : (NxD)\n",
    "  #         DB = Sum_N gradient         : (1xM) \n",
    "  \n",
    "  Dinp = np.dot(gradient, W.T)                  # DH: (NxM) * (MxD) = (NxD)\n",
    "  DW = np.dot(inp.T, gradient)                # DW  : (DxN) * (NxM) = (DxM)\n",
    "  DB = np.sum(gradient, 0, keepdims=True)     # DB  : Sum_N (N,M)   = (1xM)\n",
    "    \n",
    "  return Dinp, DW, DB\n",
    "  "
   ]
  },
  {
   "cell_type": "markdown",
   "metadata": {},
   "source": [
    "### 2) ReLU forward and backward Pass"
   ]
  },
  {
   "cell_type": "code",
   "execution_count": 5,
   "metadata": {
    "colab": {},
    "colab_type": "code",
    "id": "57WN3A_9l6z5"
   },
   "outputs": [],
   "source": [
    "def ReLU(inp):\n",
    "  # Params, inp               : (N,M)\n",
    "  # Output, activ = max(0,inp): (N,M)\n",
    "\n",
    "  activ = np.maximum(0,inp)\n",
    "  \n",
    "  return np.maximum(0,inp)"
   ]
  },
  {
   "cell_type": "code",
   "execution_count": 6,
   "metadata": {
    "colab": {},
    "colab_type": "code",
    "id": "x78eTYjMuOCt"
   },
   "outputs": [],
   "source": [
    "def ReLU_backward(inp, gradient):\n",
    "  # Params, inp: Input to ReLU                                             : (N,M)\n",
    "  #         gradient: Backpropogating gradient from the next layer         : (N,M)\n",
    "  # Output: gradient: gradient * Derivative of ReLU (1 if X>0 otherwise 0) : (N,M)\n",
    "  \n",
    "  gradient[inp<=0] = 0\n",
    "  \n",
    "  return gradient"
   ]
  },
  {
   "cell_type": "markdown",
   "metadata": {},
   "source": [
    "### 3) Sigmoid Forward and Backward Pass"
   ]
  },
  {
   "cell_type": "code",
   "execution_count": 7,
   "metadata": {
    "colab": {},
    "colab_type": "code",
    "id": "DE7no9RdnHdI"
   },
   "outputs": [],
   "source": [
    "def Sigmoid(inp):\n",
    "  # Params, inp                       : (N,M)\n",
    "  # Output, activ = 1 / 1 + exp(-inp) : (N,M)\n",
    "  \n",
    "  activ = 1 / (1 + np.exp(-inp))\n",
    "  \n",
    "  return activ"
   ]
  },
  {
   "cell_type": "code",
   "execution_count": 8,
   "metadata": {
    "colab": {},
    "colab_type": "code",
    "id": "CDKs21WMnsB2"
   },
   "outputs": [],
   "source": [
    "def Sigmoid_backward(inp, gradient):\n",
    "  # Params, inp: Input to ReLU                                                 : (N,M)\n",
    "  #         gradient: Backpropogating gradient from the next layer             : (N,M)\n",
    "  # Output: gradient: gradient * Derivative of Sigmoid (sigmoid * (1-sigmoid)) : (N,M)\n",
    " \n",
    "  s = Sigmoid(inp)  \n",
    "  Dsigmoid = s*(1-s)\n",
    "  \n",
    "  out = gradient * Dsigmoid\n",
    "  \n",
    "  return out"
   ]
  },
  {
   "cell_type": "markdown",
   "metadata": {},
   "source": [
    "### 4) TanH Forward and Backward Pass"
   ]
  },
  {
   "cell_type": "code",
   "execution_count": 9,
   "metadata": {
    "colab": {},
    "colab_type": "code",
    "id": "1tL9tpCgpN9B"
   },
   "outputs": [],
   "source": [
    "def TanH(inp):\n",
    "  # Params, inp                                         : (N,M)\n",
    "  # Output, activ = (exp(2*inp) - 1) / (exp(2*inp) + 1) : (N,M)\n",
    "  \n",
    "  exp2a = np.exp(2*inp)\n",
    "  activ = (exp2a - 1) / (exp2a + 1)\n",
    "  \n",
    "  return activ"
   ]
  },
  {
   "cell_type": "code",
   "execution_count": 10,
   "metadata": {
    "colab": {},
    "colab_type": "code",
    "id": "OmWtJENpqb5U"
   },
   "outputs": [],
   "source": [
    "def TanH_backward(inp, gradient):\n",
    "  # Params, inp: Input to TanH                                                 : (N,M)\n",
    "  #         gradient: Backpropogating gradient from the next layer             : (N,M)\n",
    "  # Output: gradient: gradient * Derivative of TanH (1-TanH^2))                : (N,M)\n",
    "\n",
    "  tanh = TanH(inp)\n",
    "  Dtanh = 1 - (tanh**2)\n",
    "  \n",
    "  out = gradient * Dtanh\n",
    "  \n",
    "  return out"
   ]
  },
  {
   "cell_type": "markdown",
   "metadata": {},
   "source": [
    "### 5) SoftMax Forward and Backward Pass"
   ]
  },
  {
   "cell_type": "code",
   "execution_count": 11,
   "metadata": {
    "colab": {},
    "colab_type": "code",
    "id": "MlZAXV3SlMoS"
   },
   "outputs": [],
   "source": [
    "def softmax(inp):\n",
    "  # Params, inp                                        : (N,C)\n",
    "  # Output, out: probs = exp(inp_i) / Sum_j exp(inp_j) : (N,C)\n",
    "    \n",
    "  exp_inp = np.exp(inp)\n",
    "  probs = exp_inp / np.sum(exp_inp, axis=1, keepdims=True)\n",
    "  \n",
    "  return probs"
   ]
  },
  {
   "cell_type": "code",
   "execution_count": 12,
   "metadata": {
    "colab": {},
    "colab_type": "code",
    "id": "yBV9l8ifh0Ja"
   },
   "outputs": [],
   "source": [
    "def softmax_backward(probs, GT):\n",
    "  # Params, probs: Network output probabilities                                                : (N,C)\n",
    "  #         GT:  each value belongs to one of C classes                                        : (N,)\n",
    "  # Output, Gradient of Pre-SoftMax activation with respect to output (dout = -(e(y) - probs)) : (N,C)          \n",
    "\n",
    "  dout = probs\n",
    "  dout[range(GT.shape[0]),GT] -= 1\n",
    "  dout /= GT.shape[0]\n",
    "\n",
    "  return dout"
   ]
  },
  {
   "cell_type": "markdown",
   "metadata": {},
   "source": [
    "### 6) Cross-Entropy Loss"
   ]
  },
  {
   "cell_type": "code",
   "execution_count": 13,
   "metadata": {
    "colab": {},
    "colab_type": "code",
    "id": "9I66WVX3g8jc"
   },
   "outputs": [],
   "source": [
    "def cross_entropy_loss(probs, GT):\n",
    "  # Params, probs: (N,C) where sum_c = 1\n",
    "  #         GT   : (N,) \n",
    "  # Output, loss : scalar\n",
    "  \n",
    "  # compute log probability for true value of GT for each example\n",
    "  logprobs = -np.log(probs[range(GT.shape[0]),GT])\n",
    "\n",
    "  loss = np.sum(logprobs)\n",
    "  loss /= GT.shape[0]\n",
    "\n",
    "  return loss"
   ]
  },
  {
   "cell_type": "markdown",
   "metadata": {},
   "source": [
    "### 7) Function to shuffle training data after epoch"
   ]
  },
  {
   "cell_type": "code",
   "execution_count": 14,
   "metadata": {
    "colab": {},
    "colab_type": "code",
    "id": "fAwhNjj-apAv"
   },
   "outputs": [],
   "source": [
    "def shuffle_data(X,Y):\n",
    "   \n",
    "  s = np.arange(X.shape[0])\n",
    "  np.random.shuffle(s)\n",
    "\n",
    "  return X[s], Y[s]"
   ]
  },
  {
   "cell_type": "markdown",
   "metadata": {},
   "source": [
    "### 8) Saving and Loading python objects as pickle file"
   ]
  },
  {
   "cell_type": "code",
   "execution_count": 15,
   "metadata": {
    "colab": {},
    "colab_type": "code",
    "id": "S8WlMQ7lUufq"
   },
   "outputs": [],
   "source": [
    "def save_obj(obj, path, name):\n",
    "    with open(path + name + '.pkl', 'wb') as f:\n",
    "        pickle.dump(obj, f, pickle.HIGHEST_PROTOCOL)"
   ]
  },
  {
   "cell_type": "code",
   "execution_count": 16,
   "metadata": {
    "colab": {},
    "colab_type": "code",
    "id": "u3NGOlFkVJAL"
   },
   "outputs": [],
   "source": [
    "def load_obj(path, name):\n",
    "    with open(path + name + '.pkl', 'rb') as f:\n",
    "        return pickle.load(f)"
   ]
  },
  {
   "cell_type": "markdown",
   "metadata": {},
   "source": [
    "## B) Neural Network Class Implementation"
   ]
  },
  {
   "cell_type": "markdown",
   "metadata": {},
   "source": [
    "### Note that NN class has a function named initialization which allows us to initialize NN with any initialization method (glorot, normal, or zero)"
   ]
  },
  {
   "cell_type": "code",
   "execution_count": 17,
   "metadata": {
    "colab": {},
    "colab_type": "code",
    "id": "fs9lThS8rZVH"
   },
   "outputs": [],
   "source": [
    "class NN(object):\n",
    "\n",
    "  \n",
    "  def __init__(self,\n",
    "               input_dims=784, \n",
    "               output_dims=10, \n",
    "               hidden_dims=(1024,2048), \n",
    "               n_hidden=2, \n",
    "               regularization_coefficient=0,\n",
    "               init_method='zeros',           # 'zeros', 'normal', or 'glorot'\n",
    "               nonlinearity = 'relu',         # 'relu', 'tanh', or 'sigmoid'\n",
    "               LearningRate = 0.001):\n",
    "    \n",
    "    dims = (input_dims,) + hidden_dims + (output_dims,)    \n",
    "    self.n_hidden = n_hidden\n",
    "     \n",
    "    self.LR = LearningRate\n",
    "    self.reg_coeff = regularization_coefficient\n",
    "    \n",
    "    self.params = {}    # dictionary of parameters of NN\n",
    "    self.cache = {}     # dictionary of forward model cache\n",
    "    self.gradient = {}  # dictionary of backward model cache (gradient)\n",
    "\n",
    "    self.activ = nonlinearity\n",
    "    self.initialize_weights(n_hidden, dims, init_method)\n",
    "         \n",
    "        \n",
    "  def initialize_weights(self,n_hidden, dims, init_method):\n",
    "    \n",
    "    # W = weight parameters\n",
    "    # B = Biases\n",
    "    \n",
    "    for i in range(1,n_hidden+2):\n",
    "      \n",
    "      self.params['B'+str(i)] = np.zeros((1,dims[i]))\n",
    "      \n",
    "      if init_method == 'zeros':\n",
    "        self.params['W'+str(i)] = np.zeros((dims[i-1],dims[i]))\n",
    "      elif init_method == 'normal':\n",
    "        self.params['W'+str(i)] = np.random.normal(0.0, 1.0, (dims[i-1],dims[i]))        \n",
    "      elif init_method == 'glorot':\n",
    "        dl = np.sqrt(6/(dims[i-1]+dims[i]))\n",
    "        self.params['W'+str(i)] = np.random.uniform(-dl, dl, (dims[i-1],dims[i]))\n",
    "      else:\n",
    "        raise Exception('Weight Intialization Method should be one of the following: zeros, glorot, or normal') \n",
    "    \n",
    "    # DA = gradient of W\n",
    "    # DB = gradient pf B\n",
    "    for i in range(1,n_hidden+2):\n",
    "\n",
    "      self.gradient['DB'+str(i)] = np.zeros((1,dims[i]))     \n",
    "      self.gradient['DW'+str(i)] = np.zeros((dims[i-1],dims[i]))\n",
    "\n",
    "        \n",
    "  def activation(self,input):\n",
    "    \n",
    "    if self.activ == 'relu':\n",
    "      out = ReLU(input)\n",
    "    elif self.activ == 'tanh':\n",
    "      out = TanH(input)\n",
    "    elif self.activ == 'sigmoid':\n",
    "      out = Sigmoid(input)\n",
    "    else:\n",
    "      raise Exception('NonLinearity should be one of the following: relu, tanh, or sigmoid')\n",
    "        \n",
    "    return out\n",
    "        \n",
    "\n",
    "  def activation_backward(self,input,gradient):\n",
    "    \n",
    "    if self.activ == 'relu':\n",
    "      out = ReLU_backward(input, gradient)\n",
    "    elif self.activ == 'tanh':\n",
    "      out = TanH_backward(input, gradient)\n",
    "    elif self.activ == 'sigmoid':\n",
    "      out = Sigmoid_backward(input, gradient)\n",
    "    else:\n",
    "      raise Exception('NonLinearity should be one of the following: relu, tanh, or sigmoid')\n",
    "        \n",
    "    return out\n",
    "\n",
    "  \n",
    "  def forward(self,input):    \n",
    "    \n",
    "    # W = weight parameters\n",
    "    # B = Biases\n",
    "    # A = pre-activation (affine transformed input)\n",
    "    # H = post-activation (Hidden layer output)\n",
    "\n",
    "    self.cache['input'] = input\n",
    "    self.cache['A1'] = Affine_forward(self.cache['input'], self.params['W1'], self.params['B1']) # A1 = X*W1 + B1\n",
    "\n",
    "    for i in range(1,self.n_hidden+1):\n",
    "      self.cache['H'+str(i)] = self.activation(self.cache['A'+str(i)]) # Hi = active(Ai), ex: H1=active(A1)\n",
    "      self.cache['A'+str(i+1)] = Affine_forward(self.cache['H'+str(i)], self.params['W'+str(i+1)], self.params['B'+str(i+1)]) # A_(i+1) = H_(i)*W_(i+1) + B_(i+1), ex: A2 = H1*W2 + B2\n",
    "\n",
    "    self.cache['out'] = softmax(self.cache['A'+str(self.n_hidden+1)]) # out = softmax(A3)\n",
    "      \n",
    "    return self.cache['out']\n",
    "\n",
    "  \n",
    "  def loss(self,prediction,labels):\n",
    "\n",
    "    data_loss = cross_entropy_loss(prediction, labels)\n",
    "    \n",
    "    reg_loss = 0\n",
    "    \n",
    "    # if regularization parameter if greater than 0 than calculate L2 value of all weight layer to calculate reg_loss\n",
    "    if self.reg_coeff>0:\n",
    "      reg_loss = sum(np.sum(self.params['W'+str(i)]**2) for i in range(1,self.n_hidden+2))\n",
    "\n",
    "    loss = data_loss + (self.reg_coeff * reg_loss)\n",
    "    \n",
    "    return loss\n",
    "  \n",
    "  \n",
    "  def backward(self, labels):\n",
    "    \n",
    "    # DA is a dummy variable to store gradient of pre-activation\n",
    "    # DH is a dummy variable to store gradient of post-pactivation\n",
    "\n",
    "    DA = softmax_backward(self.cache['out'], labels) \n",
    "    \n",
    "    for i in range(self.n_hidden+1, 1, -1):\n",
    "      DH, self.gradient['DW'+str(i)], self.gradient['DB'+str(i)] =  Affine_backward(self.cache['H'+str(i-1)], self.params['W'+str(i)], self.params['B'+str(i)], DA) # DH2, DW3, DB3 = backward(H2, W3, B3)\n",
    "      DA = self.activation_backward(self.cache['A'+str(i-1)], DH) #DA2 = backward(A2, DH2)\n",
    " \n",
    "    _, self.gradient['DW1'], self.gradient['DB1'] = Affine_backward(self.cache['input'], self.params['W1'], self.params['B1'], DA) # Dinp, DW1, DB1 = backward(input, W1, B1, DA1)\n",
    "\n",
    "     \n",
    "  def update(self):\n",
    "    \n",
    "    # Update NN parameters\n",
    "    \n",
    "    for i in range(1,self.n_hidden+2):\n",
    "\n",
    "      self.params['B'+str(i)] -= self.LR*self.gradient['DB'+str(i)] \n",
    "      \n",
    "      if self.reg_coeff>0:\n",
    "        self.gradient['DW'+str(i)] += self.reg_coeff * self.params['W'+str(i)]\n",
    "\n",
    "      self.params['W'+str(i)] -= self.LR*self.gradient['DW'+str(i)]\n",
    "  \n",
    "  \n",
    "  def zero_gradient(self):\n",
    "    \n",
    "    # make gradients zero\n",
    "    # useful to do it at the starting of epocj\n",
    "\n",
    "    for i in range(1,n_hidden+2):\n",
    "\n",
    "      self.gradient['DB'+str(i)] = np.zeros(self.gradient['DB'+str(i)].shape)     \n",
    "      self.gradient['DW'+str(i)] = np.zeros(self.gradient['DW'+str(i)].shape)\n",
    "      \n",
    "    \n",
    "    \n",
    "    "
   ]
  },
  {
   "cell_type": "markdown",
   "metadata": {},
   "source": [
    "### Train function to train model for one epoch (pass through all training images)"
   ]
  },
  {
   "cell_type": "code",
   "execution_count": 18,
   "metadata": {
    "colab": {},
    "colab_type": "code",
    "id": "fcCJ5vNQbQse"
   },
   "outputs": [],
   "source": [
    "def train(model, x_train, y_train, batch_size):\n",
    "    \n",
    "  samples = x_train.shape[0]\n",
    "\n",
    "  epoch_loss = 0\n",
    "\n",
    "  for i in range(0, samples, batch_size):\n",
    "      \n",
    "    data, label = x_train[i:i+batch_size], y_train[i:i+batch_size] # get batch of data and label\n",
    "      \n",
    "    pred_probs = model.forward(data) # forward pass of the data\n",
    "      \n",
    "    batch_loss = model.loss(pred_probs, label) # calculate loss with respect to label\n",
    "      \n",
    "    epoch_loss += batch_loss # increment epoch loss\n",
    "      \n",
    "    model.backward(label) # backward pass with respect to label\n",
    "      \n",
    "    model.update() # update model parameters\n",
    "      \n",
    "    model.zero_gradient() # make gradient zero\n",
    "      \n",
    "  epoch_loss = (epoch_loss * batch_size) / (samples) # normalize epoch loss with respect to batch size and total samples\n",
    "    \n",
    "  return epoch_loss\n"
   ]
  },
  {
   "cell_type": "markdown",
   "metadata": {},
   "source": [
    "### Train function to get prediction for all test data and calculate loss and accuracy for this data"
   ]
  },
  {
   "cell_type": "code",
   "execution_count": 19,
   "metadata": {
    "colab": {},
    "colab_type": "code",
    "id": "SeptjN7t9j6V"
   },
   "outputs": [],
   "source": [
    "def test(model, x, y):\n",
    "\n",
    "  model.zero_gradient() # make model gradient to zero\n",
    "  \n",
    "  samples = x.shape[0] # calculate total data samples\n",
    "  \n",
    "  epoch_loss = 0       # to store loss for the wholte dataset\n",
    "  true_prediction = 0  # to store total true prediction\n",
    "  \n",
    "  for i in range(0, samples):\n",
    "      \n",
    "    data, label = x[i:i+1], y[i:i+1] # get a sample of data\n",
    "      \n",
    "    pred_probs = model.forward(data) # forward pass through model\n",
    "    \n",
    "    pred_labels = np.argmax(pred_probs) # find the predicted label\n",
    "    \n",
    "    batch_loss = model.loss(pred_probs, label) # calculate loss\n",
    "\n",
    "    true_prediction += np.count_nonzero(pred_labels-label == 0) # check if prediction and true label are same or not\n",
    "    \n",
    "    epoch_loss += batch_loss # increment epoch loss\n",
    "            \n",
    "  epoch_loss = epoch_loss / samples # normalize loss with batch_size and samples\n",
    "  \n",
    "  accuracy = true_prediction / samples # calculate accuracy\n",
    "  \n",
    "  return epoch_loss, accuracy\n"
   ]
  },
  {
   "cell_type": "markdown",
   "metadata": {},
   "source": [
    "## Neural Network parameters"
   ]
  },
  {
   "cell_type": "code",
   "execution_count": 20,
   "metadata": {
    "colab": {},
    "colab_type": "code",
    "id": "QG9ugMXk1p9y"
   },
   "outputs": [],
   "source": [
    "# experiment parameters\n",
    "total_epoch = 10\n",
    "\n",
    "data_path = 'mnist_dataset/mnist.npy'\n",
    "model_path = 'mnist_experiments/Exp_validate_gradient/'\n",
    "\n",
    "os.makedirs(model_path,exist_ok=True)\n",
    "\n",
    "input_dims=784 \n",
    "output_dims=10 \n",
    "hidden_dims=(64,32) \n",
    "n_hidden=2 \n",
    "regularization_coefficient=0\n",
    "init_method ='glorot'          # 'zeros', 'normal', or 'glorot'\n",
    "nonlinearity = 'relu'         # 'relu', 'tanh', or 'sigmoid'\n",
    "LearningRate = 0.1\n",
    "\n",
    "batch_size = 16"
   ]
  },
  {
   "cell_type": "markdown",
   "metadata": {},
   "source": [
    "### Read MNIST data and pre-process it"
   ]
  },
  {
   "cell_type": "code",
   "execution_count": 21,
   "metadata": {
    "colab": {},
    "colab_type": "code",
    "id": "rK2y5aiy4_ff"
   },
   "outputs": [],
   "source": [
    "# data-preparation\n",
    "(tr, va, te) = np.load(data_path)\n",
    "    \n",
    "x_train = tr[0]\n",
    "y_train = tr[1]\n",
    "x_valid = va[0]\n",
    "y_valid = va[1]\n",
    "x_test  = te[0]\n",
    "y_test  = te[1]\n",
    "    \n",
    "data_mean = x_train.mean()\n",
    "data_std  = x_train.std()\n",
    "    \n",
    "x_train = (x_train - data_mean) / data_std \n",
    "x_test  = (x_test  - data_mean) / data_std \n",
    "x_valid = (x_valid - data_mean) / data_std \n",
    "\n",
    "del tr, va, te"
   ]
  },
  {
   "cell_type": "markdown",
   "metadata": {},
   "source": [
    "## Initialize NN model"
   ]
  },
  {
   "cell_type": "code",
   "execution_count": 22,
   "metadata": {
    "colab": {
     "base_uri": "https://localhost:8080/",
     "height": 34
    },
    "colab_type": "code",
    "id": "D8OJ0Ycs6tyd",
    "outputId": "f9f4c680-ed0e-4639-d0cb-9f2029c28e5a"
   },
   "outputs": [
    {
     "name": "stdout",
     "output_type": "stream",
     "text": [
      "Total Model Parameters:  52650\n"
     ]
    }
   ],
   "source": [
    "model = NN(input_dims, output_dims, hidden_dims, n_hidden, regularization_coefficient, init_method, nonlinearity, LearningRate)\n",
    "\n",
    "model_params = sum(value.size for _, value in model.params.items())\n",
    "\n",
    "print('Total Model Parameters: ', model_params)"
   ]
  },
  {
   "cell_type": "markdown",
   "metadata": {},
   "source": [
    "### Train the network for total_epochs and print and store training and validation loss and accuracy after each epoch"
   ]
  },
  {
   "cell_type": "code",
   "execution_count": 23,
   "metadata": {
    "colab": {
     "base_uri": "https://localhost:8080/",
     "height": 714
    },
    "colab_type": "code",
    "id": "3X4YHiBqBIOA",
    "outputId": "a6c1709d-a301-4bc3-c6c9-3d8ee316d2e7"
   },
   "outputs": [
    {
     "name": "stdout",
     "output_type": "stream",
     "text": [
      "===> Training Done Epoch 1\n",
      "===> Training   Epoch 1: Loss - 0.1661, Accuracy - 0.9492\n",
      "===> Validation Epoch 1: Loss - 0.1822, Accuracy - 0.9487\n",
      "===> Model Saved Epoch 1\n",
      "===> Training Done Epoch 2\n",
      "===> Training   Epoch 2: Loss - 0.1203, Accuracy - 0.9615\n",
      "===> Validation Epoch 2: Loss - 0.1519, Accuracy - 0.9564\n",
      "===> Model Saved Epoch 2\n",
      "===> Training Done Epoch 3\n",
      "===> Training   Epoch 3: Loss - 0.0895, Accuracy - 0.9719\n",
      "===> Validation Epoch 3: Loss - 0.1317, Accuracy - 0.9650\n",
      "===> Model Saved Epoch 3\n",
      "===> Training Done Epoch 4\n",
      "===> Training   Epoch 4: Loss - 0.0945, Accuracy - 0.9713\n",
      "===> Validation Epoch 4: Loss - 0.1543, Accuracy - 0.9635\n",
      "===> Model Saved Epoch 4\n",
      "===> Training Done Epoch 5\n",
      "===> Training   Epoch 5: Loss - 0.0863, Accuracy - 0.9742\n",
      "===> Validation Epoch 5: Loss - 0.1600, Accuracy - 0.9638\n",
      "===> Model Saved Epoch 5\n",
      "===> Training Done Epoch 6\n",
      "===> Training   Epoch 6: Loss - 0.0767, Accuracy - 0.9773\n",
      "===> Validation Epoch 6: Loss - 0.1499, Accuracy - 0.9653\n",
      "===> Model Saved Epoch 6\n",
      "===> Training Done Epoch 7\n",
      "===> Training   Epoch 7: Loss - 0.0538, Accuracy - 0.9834\n",
      "===> Validation Epoch 7: Loss - 0.1404, Accuracy - 0.9683\n",
      "===> Model Saved Epoch 7\n",
      "===> Training Done Epoch 8\n",
      "===> Training   Epoch 8: Loss - 0.0552, Accuracy - 0.9830\n",
      "===> Validation Epoch 8: Loss - 0.1505, Accuracy - 0.9699\n",
      "===> Model Saved Epoch 8\n",
      "===> Training Done Epoch 9\n",
      "===> Training   Epoch 9: Loss - 0.1034, Accuracy - 0.9705\n",
      "===> Validation Epoch 9: Loss - 0.2037, Accuracy - 0.9579\n",
      "===> Model Saved Epoch 9\n",
      "===> Training Done Epoch 10\n",
      "===> Training   Epoch 10: Loss - 0.0585, Accuracy - 0.9825\n",
      "===> Validation Epoch 10: Loss - 0.1586, Accuracy - 0.9680\n",
      "===> Model Saved Epoch 10\n",
      "===> Testing Accuracy at the end of training: 0.9640\n"
     ]
    }
   ],
   "source": [
    "train_loss = []\n",
    "valid_loss = []\n",
    "  \n",
    "train_accuracy = []\n",
    "valid_accuracy = []\n",
    "\n",
    "for i in range(1,total_epoch+1):\n",
    "  \n",
    "  loss = train(model, x_train, y_train, batch_size)\n",
    "  \n",
    "  print(\"===> Training Done Epoch {}\".format(i))\n",
    "  \n",
    "  loss, accuracy = test(model, x_train, y_train)\n",
    "  \n",
    "  train_loss = np.concatenate((train_loss, [loss]))\n",
    "  train_accuracy = np.concatenate((train_accuracy, [accuracy]))\n",
    "\n",
    "  print(\"===> Training   Epoch {}: Loss - {:.4f}, Accuracy - {:.4f}\".format(i, train_loss[-1], train_accuracy[-1]))\n",
    "\n",
    "  loss, accuracy = test(model, x_valid, y_valid)\n",
    "  \n",
    "  valid_loss = np.concatenate((valid_loss, [loss]))\n",
    "  valid_accuracy = np.concatenate((valid_accuracy, [accuracy]))\n",
    "\n",
    "  print(\"===> Validation Epoch {}: Loss - {:.4f}, Accuracy - {:.4f}\".format(i, valid_loss[-1], valid_accuracy[-1]))\n",
    "  \n",
    "  save_obj(model.params, model_path, 'model-{:02d}'.format(i))\n",
    "  \n",
    "  print(\"===> Model Saved Epoch {}\".format(i))\n",
    "\n",
    "  shuffle_data(x_train, y_train)\n",
    "\n",
    "  \n",
    "save_obj(train_loss, model_path, 'train-loss')\n",
    "save_obj(train_accuracy, model_path, 'train-accuracy')\n",
    "save_obj(valid_loss, model_path, 'valid-loss')\n",
    "save_obj(valid_accuracy, model_path, 'valid-accuracy')\n",
    "\n",
    "\n",
    "_, test_accuracy = test(model, x_test, y_test)\n",
    "\n",
    "print(\"===> Testing Accuracy at the end of training: {:.4f}\".format(test_accuracy) )\n",
    "\n",
    "save_obj([test_accuracy], model_path, 'test-accuracy')\n"
   ]
  },
  {
   "cell_type": "markdown",
   "metadata": {},
   "source": [
    "# Part-4) Validate Gradient using finite difference at the end of training"
   ]
  },
  {
   "cell_type": "markdown",
   "metadata": {},
   "source": [
    "### Get a single training data"
   ]
  },
  {
   "cell_type": "code",
   "execution_count": 24,
   "metadata": {},
   "outputs": [],
   "source": [
    "data, label = x_train[1:2], y_train[1:2]\n",
    "      \n",
    "pred_probs = model.forward(data)\n",
    "                  \n",
    "model.backward(label)"
   ]
  },
  {
   "cell_type": "markdown",
   "metadata": {},
   "source": [
    "### store original params W2"
   ]
  },
  {
   "cell_type": "code",
   "execution_count": 25,
   "metadata": {},
   "outputs": [],
   "source": [
    "orig_W2 = model.params['W2']"
   ]
  },
  {
   "cell_type": "markdown",
   "metadata": {},
   "source": [
    "### Define Maximum valur of i, j, and K"
   ]
  },
  {
   "cell_type": "code",
   "execution_count": 37,
   "metadata": {},
   "outputs": [],
   "source": [
    "max_i = 10 # first 10-elements of second layer weight\n",
    "max_j = 6 # j = {0,1,2,3,4,5}\n",
    "max_k = 5 # k = {1,2,3,4,5}\n",
    "\n",
    "Approx_delta = np.zeros((max_i, max_j, max_k)) #(10,6,5)\n",
    "\n",
    "True_delta = model.gradient['DW2'][30][10:10+max_i]\n",
    "True_delta = np.repeat(True_delta[:,np.newaxis],max_j,axis=-1)\n",
    "True_delta = np.repeat(True_delta[:,:,np.newaxis],max_k,axis=-1)\n"
   ]
  },
  {
   "cell_type": "code",
   "execution_count": 38,
   "metadata": {},
   "outputs": [
    {
     "name": "stdout",
     "output_type": "stream",
     "text": [
      "[ 0.00000000e+00 -3.19575714e-06  3.61958291e-06  0.00000000e+00\n",
      "  0.00000000e+00  0.00000000e+00  5.52373461e-08  0.00000000e+00\n",
      " -3.23730575e-06  0.00000000e+00]\n"
     ]
    }
   ],
   "source": [
    "print(model.gradient['DW2'][30][10:10+max_i])"
   ]
  },
  {
   "cell_type": "markdown",
   "metadata": {},
   "source": [
    "### approximate gradient with finite difference"
   ]
  },
  {
   "cell_type": "code",
   "execution_count": 39,
   "metadata": {},
   "outputs": [],
   "source": [
    "for i in range(0,max_i):\n",
    "    for j in range(0,max_j):\n",
    "        for k in range(0,max_k):\n",
    "            N = (k+1)*(10**j)\n",
    "            epsi = 1 / N\n",
    "            ## positive\n",
    "            model.params['W2'][30][10+i] += epsi\n",
    "            pred_probs = model.forward(data)\n",
    "            loss = model.loss(pred_probs, label)\n",
    "            pos = loss\n",
    "            model.params['W2'] = orig_W2\n",
    "            ## negative\n",
    "            model.params['W2'][30][10+i] -= epsi\n",
    "            pred_probs = model.forward(data)\n",
    "            loss = model.loss(pred_probs, label)\n",
    "            neg = loss\n",
    "            model.params['W2'] = orig_W2\n",
    "            ## Approximate Delta\n",
    "            Approx_delta[i][j][k] = (pos-neg) / (2*epsi)\n",
    "            "
   ]
  },
  {
   "cell_type": "markdown",
   "metadata": {},
   "source": [
    "### Calculate maximum difference between finite difference and true difference for difference values of N"
   ]
  },
  {
   "cell_type": "code",
   "execution_count": 40,
   "metadata": {},
   "outputs": [],
   "source": [
    "N = np.zeros((max_j*max_k,))\n",
    "max_diff = np.zeros((max_j*max_k,))"
   ]
  },
  {
   "cell_type": "code",
   "execution_count": 41,
   "metadata": {},
   "outputs": [
    {
     "name": "stdout",
     "output_type": "stream",
     "text": [
      "[1.e+00 2.e+00 3.e+00 4.e+00 5.e+00 1.e+01 2.e+01 3.e+01 4.e+01 5.e+01\n",
      " 1.e+02 2.e+02 3.e+02 4.e+02 5.e+02 1.e+03 2.e+03 3.e+03 4.e+03 5.e+03\n",
      " 1.e+04 2.e+04 3.e+04 4.e+04 5.e+04 1.e+05 2.e+05 3.e+05 4.e+05 5.e+05]\n",
      "[1.90354837e-08 1.01766688e-06 1.32309359e-06 1.45896441e-06\n",
      " 1.53563260e-06 1.67888615e-06 1.74580454e-06 1.76745189e-06\n",
      " 1.77815516e-06 1.78453898e-06 1.79722149e-06 1.80352048e-06\n",
      " 1.80561387e-06 1.80665944e-06 1.80728638e-06 1.80853949e-06\n",
      " 1.80916527e-06 1.80937400e-06 1.80947891e-06 1.80954081e-06\n",
      " 1.80966654e-06 1.80972760e-06 1.80974703e-06 1.80975869e-06\n",
      " 1.80976424e-06 1.80976424e-06 1.80978089e-06 1.80979200e-06\n",
      " 1.80978089e-06 1.80974759e-06]\n"
     ]
    }
   ],
   "source": [
    "#print(Approx_delta[9][0][0])\n",
    "#print(True_delta[9][0][0])\n",
    "i = 0\n",
    "for j in range(max_j):\n",
    "    for k in range(max_k):\n",
    "        N[i] = (k+1)*(10**j)\n",
    "        max_diff[i] = np.max(True_delta[:,j,k] - Approx_delta[:,j,k])\n",
    "        i = i+1\n",
    "    \n",
    "\n",
    "print(N)\n",
    "print(max_diff)"
   ]
  },
  {
   "cell_type": "markdown",
   "metadata": {},
   "source": [
    "### Plot this value as a function of N"
   ]
  },
  {
   "cell_type": "code",
   "execution_count": 42,
   "metadata": {},
   "outputs": [
    {
     "data": {
      "image/png": "[encoded data removed]",
      "text/plain": [
       "<Figure size 432x288 with 1 Axes>"
      ]
     },
     "metadata": {},
     "output_type": "display_data"
    }
   ],
   "source": [
    "plt.figure(0)\n",
    "plt.semilogx(N, max_diff)\n",
    "#plt.title('Maximum Difference between the true gradient and the finite gradient as a function of N')\n",
    "plt.grid(True)\n",
    "plt.xlabel('N=(k)*(10^j) where k={1,...,5}, j={0,...,5}')\n",
    "plt.ylabel('max_{1<=i<=10} |Delta_i^N - DL/DT_i|')\n",
    "#plt.show()\n",
    "plt.savefig('IFT6135H19_A1_Pc.png', dpi=500)"
   ]
  },
  {
   "cell_type": "code",
   "execution_count": 43,
   "metadata": {},
   "outputs": [
    {
     "name": "stdout",
     "output_type": "stream",
     "text": [
      "[[[ 0.00000000e+00  0.00000000e+00  0.00000000e+00  0.00000000e+00\n",
      "    0.00000000e+00]\n",
      "  [ 0.00000000e+00  0.00000000e+00  0.00000000e+00  0.00000000e+00\n",
      "    0.00000000e+00]\n",
      "  [ 0.00000000e+00  0.00000000e+00  0.00000000e+00  0.00000000e+00\n",
      "    0.00000000e+00]\n",
      "  [ 0.00000000e+00  0.00000000e+00  0.00000000e+00  0.00000000e+00\n",
      "    0.00000000e+00]\n",
      "  [ 0.00000000e+00  0.00000000e+00  0.00000000e+00  0.00000000e+00\n",
      "    0.00000000e+00]\n",
      "  [ 0.00000000e+00  0.00000000e+00  0.00000000e+00  0.00000000e+00\n",
      "    0.00000000e+00]]\n",
      "\n",
      " [[-3.19575714e-06 -3.19575714e-06 -3.19575714e-06 -3.19575714e-06\n",
      "   -3.19575714e-06]\n",
      "  [-3.19575714e-06 -3.19575714e-06 -3.19575714e-06 -3.19575714e-06\n",
      "   -3.19575714e-06]\n",
      "  [-3.19575714e-06 -3.19575714e-06 -3.19575714e-06 -3.19575714e-06\n",
      "   -3.19575714e-06]\n",
      "  [-3.19575714e-06 -3.19575714e-06 -3.19575714e-06 -3.19575714e-06\n",
      "   -3.19575714e-06]\n",
      "  [-3.19575714e-06 -3.19575714e-06 -3.19575714e-06 -3.19575714e-06\n",
      "   -3.19575714e-06]\n",
      "  [-3.19575714e-06 -3.19575714e-06 -3.19575714e-06 -3.19575714e-06\n",
      "   -3.19575714e-06]]\n",
      "\n",
      " [[ 3.61958291e-06  3.61958291e-06  3.61958291e-06  3.61958291e-06\n",
      "    3.61958291e-06]\n",
      "  [ 3.61958291e-06  3.61958291e-06  3.61958291e-06  3.61958291e-06\n",
      "    3.61958291e-06]\n",
      "  [ 3.61958291e-06  3.61958291e-06  3.61958291e-06  3.61958291e-06\n",
      "    3.61958291e-06]\n",
      "  [ 3.61958291e-06  3.61958291e-06  3.61958291e-06  3.61958291e-06\n",
      "    3.61958291e-06]\n",
      "  [ 3.61958291e-06  3.61958291e-06  3.61958291e-06  3.61958291e-06\n",
      "    3.61958291e-06]\n",
      "  [ 3.61958291e-06  3.61958291e-06  3.61958291e-06  3.61958291e-06\n",
      "    3.61958291e-06]]\n",
      "\n",
      " [[ 0.00000000e+00  0.00000000e+00  0.00000000e+00  0.00000000e+00\n",
      "    0.00000000e+00]\n",
      "  [ 0.00000000e+00  0.00000000e+00  0.00000000e+00  0.00000000e+00\n",
      "    0.00000000e+00]\n",
      "  [ 0.00000000e+00  0.00000000e+00  0.00000000e+00  0.00000000e+00\n",
      "    0.00000000e+00]\n",
      "  [ 0.00000000e+00  0.00000000e+00  0.00000000e+00  0.00000000e+00\n",
      "    0.00000000e+00]\n",
      "  [ 0.00000000e+00  0.00000000e+00  0.00000000e+00  0.00000000e+00\n",
      "    0.00000000e+00]\n",
      "  [ 0.00000000e+00  0.00000000e+00  0.00000000e+00  0.00000000e+00\n",
      "    0.00000000e+00]]\n",
      "\n",
      " [[ 0.00000000e+00  0.00000000e+00  0.00000000e+00  0.00000000e+00\n",
      "    0.00000000e+00]\n",
      "  [ 0.00000000e+00  0.00000000e+00  0.00000000e+00  0.00000000e+00\n",
      "    0.00000000e+00]\n",
      "  [ 0.00000000e+00  0.00000000e+00  0.00000000e+00  0.00000000e+00\n",
      "    0.00000000e+00]\n",
      "  [ 0.00000000e+00  0.00000000e+00  0.00000000e+00  0.00000000e+00\n",
      "    0.00000000e+00]\n",
      "  [ 0.00000000e+00  0.00000000e+00  0.00000000e+00  0.00000000e+00\n",
      "    0.00000000e+00]\n",
      "  [ 0.00000000e+00  0.00000000e+00  0.00000000e+00  0.00000000e+00\n",
      "    0.00000000e+00]]\n",
      "\n",
      " [[ 0.00000000e+00  0.00000000e+00  0.00000000e+00  0.00000000e+00\n",
      "    0.00000000e+00]\n",
      "  [ 0.00000000e+00  0.00000000e+00  0.00000000e+00  0.00000000e+00\n",
      "    0.00000000e+00]\n",
      "  [ 0.00000000e+00  0.00000000e+00  0.00000000e+00  0.00000000e+00\n",
      "    0.00000000e+00]\n",
      "  [ 0.00000000e+00  0.00000000e+00  0.00000000e+00  0.00000000e+00\n",
      "    0.00000000e+00]\n",
      "  [ 0.00000000e+00  0.00000000e+00  0.00000000e+00  0.00000000e+00\n",
      "    0.00000000e+00]\n",
      "  [ 0.00000000e+00  0.00000000e+00  0.00000000e+00  0.00000000e+00\n",
      "    0.00000000e+00]]\n",
      "\n",
      " [[ 5.52373461e-08  5.52373461e-08  5.52373461e-08  5.52373461e-08\n",
      "    5.52373461e-08]\n",
      "  [ 5.52373461e-08  5.52373461e-08  5.52373461e-08  5.52373461e-08\n",
      "    5.52373461e-08]\n",
      "  [ 5.52373461e-08  5.52373461e-08  5.52373461e-08  5.52373461e-08\n",
      "    5.52373461e-08]\n",
      "  [ 5.52373461e-08  5.52373461e-08  5.52373461e-08  5.52373461e-08\n",
      "    5.52373461e-08]\n",
      "  [ 5.52373461e-08  5.52373461e-08  5.52373461e-08  5.52373461e-08\n",
      "    5.52373461e-08]\n",
      "  [ 5.52373461e-08  5.52373461e-08  5.52373461e-08  5.52373461e-08\n",
      "    5.52373461e-08]]\n",
      "\n",
      " [[ 0.00000000e+00  0.00000000e+00  0.00000000e+00  0.00000000e+00\n",
      "    0.00000000e+00]\n",
      "  [ 0.00000000e+00  0.00000000e+00  0.00000000e+00  0.00000000e+00\n",
      "    0.00000000e+00]\n",
      "  [ 0.00000000e+00  0.00000000e+00  0.00000000e+00  0.00000000e+00\n",
      "    0.00000000e+00]\n",
      "  [ 0.00000000e+00  0.00000000e+00  0.00000000e+00  0.00000000e+00\n",
      "    0.00000000e+00]\n",
      "  [ 0.00000000e+00  0.00000000e+00  0.00000000e+00  0.00000000e+00\n",
      "    0.00000000e+00]\n",
      "  [ 0.00000000e+00  0.00000000e+00  0.00000000e+00  0.00000000e+00\n",
      "    0.00000000e+00]]\n",
      "\n",
      " [[-3.23730575e-06 -3.23730575e-06 -3.23730575e-06 -3.23730575e-06\n",
      "   -3.23730575e-06]\n",
      "  [-3.23730575e-06 -3.23730575e-06 -3.23730575e-06 -3.23730575e-06\n",
      "   -3.23730575e-06]\n",
      "  [-3.23730575e-06 -3.23730575e-06 -3.23730575e-06 -3.23730575e-06\n",
      "   -3.23730575e-06]\n",
      "  [-3.23730575e-06 -3.23730575e-06 -3.23730575e-06 -3.23730575e-06\n",
      "   -3.23730575e-06]\n",
      "  [-3.23730575e-06 -3.23730575e-06 -3.23730575e-06 -3.23730575e-06\n",
      "   -3.23730575e-06]\n",
      "  [-3.23730575e-06 -3.23730575e-06 -3.23730575e-06 -3.23730575e-06\n",
      "   -3.23730575e-06]]\n",
      "\n",
      " [[ 0.00000000e+00  0.00000000e+00  0.00000000e+00  0.00000000e+00\n",
      "    0.00000000e+00]\n",
      "  [ 0.00000000e+00  0.00000000e+00  0.00000000e+00  0.00000000e+00\n",
      "    0.00000000e+00]\n",
      "  [ 0.00000000e+00  0.00000000e+00  0.00000000e+00  0.00000000e+00\n",
      "    0.00000000e+00]\n",
      "  [ 0.00000000e+00  0.00000000e+00  0.00000000e+00  0.00000000e+00\n",
      "    0.00000000e+00]\n",
      "  [ 0.00000000e+00  0.00000000e+00  0.00000000e+00  0.00000000e+00\n",
      "    0.00000000e+00]\n",
      "  [ 0.00000000e+00  0.00000000e+00  0.00000000e+00  0.00000000e+00\n",
      "    0.00000000e+00]]]\n"
     ]
    }
   ],
   "source": [
    "print(True_delta)"
   ]
  },
  {
   "cell_type": "code",
   "execution_count": 44,
   "metadata": {},
   "outputs": [
    {
     "name": "stdout",
     "output_type": "stream",
     "text": [
      "[[[ 0.00000000e+00  0.00000000e+00  0.00000000e+00  0.00000000e+00\n",
      "    0.00000000e+00]\n",
      "  [ 0.00000000e+00  0.00000000e+00  0.00000000e+00  0.00000000e+00\n",
      "    0.00000000e+00]\n",
      "  [ 0.00000000e+00  0.00000000e+00  0.00000000e+00  0.00000000e+00\n",
      "    0.00000000e+00]\n",
      "  [ 0.00000000e+00  0.00000000e+00  0.00000000e+00  0.00000000e+00\n",
      "    0.00000000e+00]\n",
      "  [ 0.00000000e+00  0.00000000e+00  0.00000000e+00  0.00000000e+00\n",
      "    0.00000000e+00]\n",
      "  [ 0.00000000e+00  0.00000000e+00  0.00000000e+00  0.00000000e+00\n",
      "    0.00000000e+00]]\n",
      "\n",
      " [[-9.65693039e-07 -1.22574445e-06 -1.33490619e-06 -1.39466180e-06\n",
      "   -1.43231928e-06]\n",
      "  [-1.51197965e-06 -1.55411422e-06 -1.56851764e-06 -1.57578809e-06\n",
      "   -1.58017256e-06]\n",
      "  [-1.58899178e-06 -1.59342668e-06 -1.59490875e-06 -1.59565049e-06\n",
      "   -1.59609572e-06]\n",
      "  [-1.59698679e-06 -1.59743238e-06 -1.59758104e-06 -1.59765510e-06\n",
      "   -1.59769967e-06]\n",
      "  [-1.59778932e-06 -1.59783429e-06 -1.59784650e-06 -1.59785316e-06\n",
      "   -1.59786260e-06]\n",
      "  [-1.59785982e-06 -1.59788203e-06 -1.59785982e-06 -1.59788203e-06\n",
      "   -1.59786537e-06]]\n",
      "\n",
      " [[ 3.87180482e-06  2.60191602e-06  2.29648932e-06  2.16061850e-06\n",
      "    2.08395030e-06]\n",
      "  [ 1.94069675e-06  1.87377837e-06  1.85213102e-06  1.84142775e-06\n",
      "    1.83504393e-06]\n",
      "  [ 1.82236142e-06  1.81606243e-06  1.81396904e-06  1.81292347e-06\n",
      "    1.81229653e-06]\n",
      "  [ 1.81104342e-06  1.81041764e-06  1.81020891e-06  1.81010400e-06\n",
      "    1.81004210e-06]\n",
      "  [ 1.80991637e-06  1.80985530e-06  1.80983588e-06  1.80982422e-06\n",
      "    1.80981867e-06]\n",
      "  [ 1.80981867e-06  1.80980201e-06  1.80979091e-06  1.80980201e-06\n",
      "    1.80983532e-06]]\n",
      "\n",
      " [[ 0.00000000e+00  0.00000000e+00  0.00000000e+00  0.00000000e+00\n",
      "    0.00000000e+00]\n",
      "  [ 0.00000000e+00  0.00000000e+00  0.00000000e+00  0.00000000e+00\n",
      "    0.00000000e+00]\n",
      "  [ 0.00000000e+00  0.00000000e+00  0.00000000e+00  0.00000000e+00\n",
      "    0.00000000e+00]\n",
      "  [ 0.00000000e+00  0.00000000e+00  0.00000000e+00  0.00000000e+00\n",
      "    0.00000000e+00]\n",
      "  [ 0.00000000e+00  0.00000000e+00  0.00000000e+00  0.00000000e+00\n",
      "    0.00000000e+00]\n",
      "  [ 0.00000000e+00  0.00000000e+00  0.00000000e+00  0.00000000e+00\n",
      "    0.00000000e+00]]\n",
      "\n",
      " [[ 0.00000000e+00  0.00000000e+00  0.00000000e+00  0.00000000e+00\n",
      "    0.00000000e+00]\n",
      "  [ 0.00000000e+00  0.00000000e+00  0.00000000e+00  0.00000000e+00\n",
      "    0.00000000e+00]\n",
      "  [ 0.00000000e+00  0.00000000e+00  0.00000000e+00  0.00000000e+00\n",
      "    0.00000000e+00]\n",
      "  [ 0.00000000e+00  0.00000000e+00  0.00000000e+00  0.00000000e+00\n",
      "    0.00000000e+00]\n",
      "  [ 0.00000000e+00  0.00000000e+00  0.00000000e+00  0.00000000e+00\n",
      "    0.00000000e+00]\n",
      "  [ 0.00000000e+00  0.00000000e+00  0.00000000e+00  0.00000000e+00\n",
      "    0.00000000e+00]]\n",
      "\n",
      " [[ 0.00000000e+00  0.00000000e+00  0.00000000e+00  0.00000000e+00\n",
      "    0.00000000e+00]\n",
      "  [ 0.00000000e+00  0.00000000e+00  0.00000000e+00  0.00000000e+00\n",
      "    0.00000000e+00]\n",
      "  [ 0.00000000e+00  0.00000000e+00  0.00000000e+00  0.00000000e+00\n",
      "    0.00000000e+00]\n",
      "  [ 0.00000000e+00  0.00000000e+00  0.00000000e+00  0.00000000e+00\n",
      "    0.00000000e+00]\n",
      "  [ 0.00000000e+00  0.00000000e+00  0.00000000e+00  0.00000000e+00\n",
      "    0.00000000e+00]\n",
      "  [ 0.00000000e+00  0.00000000e+00  0.00000000e+00  0.00000000e+00\n",
      "    0.00000000e+00]]\n",
      "\n",
      " [[ 3.62018624e-08  3.16960344e-08  3.02955399e-08  2.96116641e-08\n",
      "    2.92062480e-08]\n",
      "  [ 2.84058859e-08  2.80106974e-08  2.78796763e-08  2.78142984e-08\n",
      "    2.77751102e-08]\n",
      "  [ 2.76968309e-08  2.76577454e-08  2.76447169e-08  2.76381943e-08\n",
      "    2.76343085e-08]\n",
      "  [ 2.76265369e-08  2.76225401e-08  2.76213189e-08  2.76206527e-08\n",
      "    2.76202086e-08]\n",
      "  [ 2.76202086e-08  2.76202086e-08  2.76229842e-08  2.76202086e-08\n",
      "    2.76224291e-08]\n",
      "  [ 2.76279802e-08  2.76335313e-08  2.76446335e-08  2.76002245e-08\n",
      "    2.76446336e-08]]\n",
      "\n",
      " [[ 0.00000000e+00  0.00000000e+00  0.00000000e+00  0.00000000e+00\n",
      "    0.00000000e+00]\n",
      "  [ 0.00000000e+00  0.00000000e+00  0.00000000e+00  0.00000000e+00\n",
      "    0.00000000e+00]\n",
      "  [ 0.00000000e+00  0.00000000e+00  0.00000000e+00  0.00000000e+00\n",
      "    0.00000000e+00]\n",
      "  [ 0.00000000e+00  0.00000000e+00  0.00000000e+00  0.00000000e+00\n",
      "    0.00000000e+00]\n",
      "  [ 0.00000000e+00  0.00000000e+00  0.00000000e+00  0.00000000e+00\n",
      "    0.00000000e+00]\n",
      "  [ 0.00000000e+00  0.00000000e+00  0.00000000e+00  0.00000000e+00\n",
      "    0.00000000e+00]]\n",
      "\n",
      " [[-9.70681491e-07 -1.23691929e-06 -1.34888271e-06 -1.41019003e-06\n",
      "   -1.44882688e-06]\n",
      "  [-1.53055272e-06 -1.57377161e-06 -1.58854380e-06 -1.59599997e-06\n",
      "   -1.60049629e-06]\n",
      "  [-1.60954017e-06 -1.61408789e-06 -1.61560765e-06 -1.61636820e-06\n",
      "   -1.61682481e-06]\n",
      "  [-1.61773842e-06 -1.61819550e-06 -1.61834783e-06 -1.61842365e-06\n",
      "   -1.61846951e-06]\n",
      "  [-1.61856221e-06 -1.61860662e-06 -1.61861994e-06 -1.61862771e-06\n",
      "   -1.61863493e-06]\n",
      "  [-1.61863216e-06 -1.61864326e-06 -1.61864326e-06 -1.61864326e-06\n",
      "   -1.61859885e-06]]\n",
      "\n",
      " [[ 0.00000000e+00  0.00000000e+00  0.00000000e+00  0.00000000e+00\n",
      "    0.00000000e+00]\n",
      "  [ 0.00000000e+00  0.00000000e+00  0.00000000e+00  0.00000000e+00\n",
      "    0.00000000e+00]\n",
      "  [ 0.00000000e+00  0.00000000e+00  0.00000000e+00  0.00000000e+00\n",
      "    0.00000000e+00]\n",
      "  [ 0.00000000e+00  0.00000000e+00  0.00000000e+00  0.00000000e+00\n",
      "    0.00000000e+00]\n",
      "  [ 0.00000000e+00  0.00000000e+00  0.00000000e+00  0.00000000e+00\n",
      "    0.00000000e+00]\n",
      "  [ 0.00000000e+00  0.00000000e+00  0.00000000e+00  0.00000000e+00\n",
      "    0.00000000e+00]]]\n"
     ]
    }
   ],
   "source": [
    "print(Approx_delta)"
   ]
  }
 ],
 "metadata": {
  "colab": {
   "collapsed_sections": [],
   "name": "IFT6135H19_Assignment_1_P1.ipynb",
   "provenance": [],
   "version": "0.3.2"
  },
  "kernelspec": {
   "display_name": "Python 3",
   "language": "python",
   "name": "python3"
  },
  "language_info": {
   "codemirror_mode": {
    "name": "ipython",
    "version": 3
   },
   "file_extension": ".py",
   "mimetype": "text/x-python",
   "name": "python",
   "nbconvert_exporter": "python",
   "pygments_lexer": "ipython3",
   "version": "3.5.2"
  }
 },
 "nbformat": 4,
 "nbformat_minor": 1
}
