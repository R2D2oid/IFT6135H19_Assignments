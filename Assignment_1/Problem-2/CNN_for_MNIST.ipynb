{
  "nbformat": 4,
  "nbformat_minor": 0,
  "metadata": {
    "colab": {
      "name": "CNN_for_MNIST.ipynb",
      "version": "0.3.2",
      "provenance": [],
      "collapsed_sections": []
    },
    "kernelspec": {
      "name": "python3",
      "display_name": "Python 3"
    },
    "accelerator": "GPU"
  },
  "cells": [
    {
      "metadata": {
        "id": "eV8KiThrFk8J",
        "colab_type": "text"
      },
      "cell_type": "markdown",
      "source": [
        "# Convolutional Network for MNIST digits classification<sup>[1](#cite)</sup>\n",
        "\n",
        "This notebook provides a CNN architecture composed of six convolutional layers and six max-pooling layers followed by two fully-connected layers to perform MNIST digits classification task. \n",
        "\n",
        "<a name=\"cite\">1</a>: <a href=\"https://github.com/MaximumEntropy/welcome_tutorials/tree/pytorch/pytorch\n",
        "\" target=\"_blank\">this</a>\n",
        "the was used as a reference to obtain the MNIST dataset and lay the base.\n",
        "\n",
        "\n"
      ]
    },
    {
      "metadata": {
        "id": "AP6OAHWcunf5",
        "colab_type": "code",
        "colab": {}
      },
      "cell_type": "code",
      "source": [
        "from __future__ import print_function\n",
        "import time\n",
        "import pickle\n",
        "import gzip\n",
        "import os\n",
        "import urllib\n",
        "import numpy as np\n",
        "import torch\n",
        "import torch.nn as nn\n",
        "import torch.optim as optim\n",
        "import torch.nn.init as init\n",
        "import torch.nn.functional as F\n",
        "import torchvision\n",
        "import torchvision.transforms\n",
        "import matplotlib.pyplot as plt\n",
        "from torch.autograd import Variable"
      ],
      "execution_count": 0,
      "outputs": []
    },
    {
      "metadata": {
        "id": "mAEhaTZdurJe",
        "colab_type": "code",
        "colab": {}
      },
      "cell_type": "code",
      "source": [
        "# the function to obtain dataset stats for normalization in transforms\n",
        "def get_dataset_stats(dataset):\n",
        "\n",
        "    total_mean = 0\n",
        "    total_std = 0\n",
        "    count = 0\n",
        "\n",
        "    for item in dataset:\n",
        "        count += 1\n",
        "        total_mean += np.array(item[0][0]).mean()\n",
        "        total_std  += np.array(item[0][0]).std()\n",
        "\n",
        "    m = total_mean/count\n",
        "    s = total_std/count\n",
        "    \n",
        "    return m, s"
      ],
      "execution_count": 0,
      "outputs": []
    },
    {
      "metadata": {
        "id": "IxD11z0Fu3r4",
        "colab_type": "code",
        "colab": {}
      },
      "cell_type": "code",
      "source": [
        "\n",
        "# obtain MNIST dataset and normalize the data\n",
        "\n",
        "mnist_transforms = torchvision.transforms.Compose([torchvision.transforms.ToTensor()])\n",
        "mnist_train = torchvision.datasets.MNIST(root='./data', train=True, transform=mnist_transforms, download=True)\n",
        "\n",
        "m,s = get_dataset_stats(mnist_train)\n",
        "mnist_transforms = torchvision.transforms.Compose([torchvision.transforms.ToTensor(), \n",
        "                                                  torchvision.transforms.Normalize((m,),(s,))\n",
        "                                                  ])\n",
        "\n",
        "mnist_train = torchvision.datasets.MNIST(root='./data', train=True, transform=mnist_transforms, download=True)\n",
        "mnist_test = torchvision.datasets.MNIST(root='./data', train=False, transform=mnist_transforms, download=True)\n",
        "\n",
        "trainloader = torch.utils.data.DataLoader(mnist_train, batch_size=64, shuffle=True, num_workers=2)\n",
        "testloader = torch.utils.data.DataLoader(mnist_test, batch_size=64, shuffle=True, num_workers=2)\n"
      ],
      "execution_count": 0,
      "outputs": []
    },
    {
      "metadata": {
        "id": "wg5BjVu1u5Do",
        "colab_type": "code",
        "colab": {}
      },
      "cell_type": "code",
      "source": [
        "# Create CNN model class\n",
        "\n",
        "class Classifier(nn.Module):\n",
        "    \"\"\"Convnet Classifier\"\"\"\n",
        "    def __init__(self):\n",
        "        super(Classifier, self).__init__()\n",
        "        self.conv = nn.Sequential(\n",
        "            \n",
        "            # Layer 1\n",
        "            nn.Conv2d(in_channels=1, out_channels=16, kernel_size=(3, 3), padding=1),\n",
        "            nn.ReLU(),\n",
        "            nn.MaxPool2d(kernel_size=(2, 2), stride=1),\n",
        "            \n",
        "            # Layer 2\n",
        "            nn.Conv2d(in_channels=16, out_channels=32, kernel_size=(5, 5), stride=[2,2], padding=2),\n",
        "            nn.ReLU(),\n",
        "            nn.MaxPool2d(kernel_size=(2, 2), stride=1),\n",
        "            \n",
        "            # Layer 3\n",
        "            nn.Conv2d(in_channels=32, out_channels=64, kernel_size=(3, 3), padding=1),\n",
        "            nn.ReLU(),\n",
        "            nn.MaxPool2d(kernel_size=(2, 2), stride=1),\n",
        "            \n",
        "            # Layer 4\n",
        "            nn.Conv2d(in_channels=64, out_channels=128, kernel_size=(3, 3), padding=1),\n",
        "            nn.ReLU(),\n",
        "            nn.MaxPool2d(kernel_size=(2, 2), stride=2),\n",
        "            \n",
        "            # Layer 5\n",
        "            nn.Conv2d(in_channels=128, out_channels=256, kernel_size=(2, 2), padding=1),\n",
        "            nn.ReLU(),\n",
        "            nn.MaxPool2d(kernel_size=(2, 2), stride=2),\n",
        "  \n",
        "            # Layer 6\n",
        "            nn.Conv2d(in_channels=256, out_channels=512, kernel_size=(2, 2), padding=1),\n",
        "            nn.ReLU(),\n",
        "            nn.MaxPool2d(kernel_size=(2, 2), stride=2)\n",
        "        )\n",
        "\n",
        "        # fc layers\n",
        "        self.lin = nn.Linear(512*2*2,100)\n",
        "        self.clf = nn.Linear(100, 10)\n",
        "\n",
        "    def forward(self, x):\n",
        "        return self.clf(self.lin(self.conv(x).view(-1,512*2*2)))\n",
        "    \n",
        "        "
      ],
      "execution_count": 0,
      "outputs": []
    },
    {
      "metadata": {
        "id": "BQSqu8-ZvJdM",
        "colab_type": "code",
        "colab": {
          "base_uri": "https://localhost:8080/",
          "height": 34
        },
        "outputId": "79b3355b-fbdf-4d80-9597-554337c69170"
      },
      "cell_type": "code",
      "source": [
        "\n",
        "# create classifier instance\n",
        "clf = Classifier()\n",
        "\n",
        "cuda_available = torch.cuda.is_available()\n",
        "print ('cuda availability: {}'.format(cuda_available))\n",
        "if cuda_available:\n",
        "    clf = clf.cuda()\n",
        "\n",
        "# SGD with a learning rate of 0.1, without regularization using cross-entropy loss\n",
        "optimizer = optim.SGD(clf.parameters(), lr = 0.01, weight_decay=0)\n",
        "criterion = nn.CrossEntropyLoss()"
      ],
      "execution_count": 5,
      "outputs": [
        {
          "output_type": "stream",
          "text": [
            "cuda availability: True\n"
          ],
          "name": "stdout"
        }
      ]
    },
    {
      "metadata": {
        "id": "wWpqMTqxvQDi",
        "colab_type": "code",
        "outputId": "ae50705d-7d24-471b-c749-6593c5a03caf",
        "colab": {
          "base_uri": "https://localhost:8080/",
          "height": 434
        }
      },
      "cell_type": "code",
      "source": [
        "\n",
        "print(clf)"
      ],
      "execution_count": 6,
      "outputs": [
        {
          "output_type": "stream",
          "text": [
            "Classifier(\n",
            "  (conv): Sequential(\n",
            "    (0): Conv2d(1, 16, kernel_size=(3, 3), stride=(1, 1), padding=(1, 1))\n",
            "    (1): ReLU()\n",
            "    (2): MaxPool2d(kernel_size=(2, 2), stride=1, padding=0, dilation=1, ceil_mode=False)\n",
            "    (3): Conv2d(16, 32, kernel_size=(5, 5), stride=[2, 2], padding=(2, 2))\n",
            "    (4): ReLU()\n",
            "    (5): MaxPool2d(kernel_size=(2, 2), stride=1, padding=0, dilation=1, ceil_mode=False)\n",
            "    (6): Conv2d(32, 64, kernel_size=(3, 3), stride=(1, 1), padding=(1, 1))\n",
            "    (7): ReLU()\n",
            "    (8): MaxPool2d(kernel_size=(2, 2), stride=1, padding=0, dilation=1, ceil_mode=False)\n",
            "    (9): Conv2d(64, 128, kernel_size=(3, 3), stride=(1, 1), padding=(1, 1))\n",
            "    (10): ReLU()\n",
            "    (11): MaxPool2d(kernel_size=(2, 2), stride=2, padding=0, dilation=1, ceil_mode=False)\n",
            "    (12): Conv2d(128, 256, kernel_size=(2, 2), stride=(1, 1), padding=(1, 1))\n",
            "    (13): ReLU()\n",
            "    (14): MaxPool2d(kernel_size=(2, 2), stride=2, padding=0, dilation=1, ceil_mode=False)\n",
            "    (15): Conv2d(256, 512, kernel_size=(2, 2), stride=(1, 1), padding=(1, 1))\n",
            "    (16): ReLU()\n",
            "    (17): MaxPool2d(kernel_size=(2, 2), stride=2, padding=0, dilation=1, ceil_mode=False)\n",
            "  )\n",
            "  (lin): Linear(in_features=2048, out_features=100, bias=True)\n",
            "  (clf): Linear(in_features=100, out_features=10, bias=True)\n",
            ")\n"
          ],
          "name": "stdout"
        }
      ]
    },
    {
      "metadata": {
        "id": "SFsJYm86vYJ7",
        "colab_type": "code",
        "outputId": "048d2ccf-591b-4f74-cd9d-50824ba9433b",
        "colab": {
          "base_uri": "https://localhost:8080/",
          "height": 34
        }
      },
      "cell_type": "code",
      "source": [
        "params_count = sum(p.numel() for p in clf.parameters())\n",
        "print('total number of parameters: {}'.format(params_count))\n"
      ],
      "execution_count": 7,
      "outputs": [
        {
          "output_type": "stream",
          "text": [
            "total number of parameters: 967382\n"
          ],
          "name": "stdout"
        }
      ]
    },
    {
      "metadata": {
        "id": "reqMZ0BKvZ6c",
        "colab_type": "code",
        "outputId": "da944988-c83a-4b7a-c11d-32247d76e957",
        "colab": {
          "base_uri": "https://localhost:8080/",
          "height": 575
        }
      },
      "cell_type": "code",
      "source": [
        "num_epochs = 10\n",
        "\n",
        "epoch_losses = {}\n",
        "epoch_losses['train'] = []\n",
        "epoch_losses['test'] = []\n",
        "\n",
        "epoch_accuracy = {}\n",
        "epoch_accuracy['train'] = []\n",
        "epoch_accuracy['test'] = []\n",
        "\n",
        "\n",
        "for epoch in range(num_epochs):\n",
        "    train_losses = []\n",
        "    test_losses = []\n",
        "    \n",
        "    # Training\n",
        "    for batch_idx, (inputs, targets) in enumerate(trainloader):\n",
        "        if cuda_available:\n",
        "            inputs, targets = inputs.cuda(), targets.cuda()\n",
        "\n",
        "        optimizer.zero_grad()\n",
        "        \n",
        "        inputs, targets = Variable(inputs), Variable(targets)\n",
        "        outputs = clf(inputs)\n",
        "        \n",
        "        # get loss and backpropagate it through the network\n",
        "        loss = criterion(outputs, targets)\n",
        "        loss.backward()\n",
        "        optimizer.step()\n",
        "        \n",
        "    clf.eval()\n",
        "    \n",
        "    # Evaluation test\n",
        "    test_total = 0\n",
        "    test_correct = 0\n",
        "    for batch_idx, (inputs, targets) in enumerate(testloader):\n",
        "        if cuda_available:\n",
        "            inputs, targets = inputs.cuda(), targets.cuda()\n",
        "\n",
        "        inputs, targets = Variable(inputs, volatile=True), Variable(targets, volatile=True)\n",
        "        outputs = clf(inputs)\n",
        "        \n",
        "        # iteration accuracy\n",
        "        _, predicted = torch.max(outputs.data, 1)\n",
        "        test_total += targets.size(0)\n",
        "        test_correct += predicted.eq(targets.data).cpu().sum()\n",
        "        \n",
        "        # iteration loss\n",
        "        test_loss = criterion(outputs, targets)\n",
        "        test_losses.append(np.float(test_loss.data))\n",
        "        \n",
        "\n",
        "    epoch_losses['test'].append(np.mean(test_losses))\n",
        "\n",
        "    test_acc = 100* np.float(test_correct)/np.float(test_total)\n",
        "    print('Epoch : %d Test Acc : %.3f' % (epoch, test_acc))\n",
        "    epoch_accuracy['test'].append(test_acc)\n",
        "        \n",
        "    \n",
        "    # Evaluate train\n",
        "    train_correct = 0\n",
        "    train_total = 0\n",
        "    for batch_idx, (inputs, targets) in enumerate(trainloader):\n",
        "        if cuda_available:\n",
        "            inputs, targets = inputs.cuda(), targets.cuda()\n",
        "\n",
        "        inputs, targets = Variable(inputs), Variable(targets)\n",
        "        outputs = clf(inputs)\n",
        "        \n",
        "        # iteration accuracy\n",
        "        _, predicted = torch.max(outputs.data, 1)\n",
        "        train_total += targets.size(0)\n",
        "        train_correct += predicted.eq(targets.data).cpu().sum()\n",
        "        \n",
        "        # iteration loss\n",
        "        train_loss = criterion(outputs, targets)\n",
        "        train_losses.append(np.float(train_loss.data))\n",
        "\n",
        "    \n",
        "    print('Epoch : %d Train Loss : %.3f ' % (epoch, np.mean(train_losses)))\n",
        "    epoch_losses['train'].append(np.mean(train_losses))\n",
        "    \n",
        "    train_acc = 100* np.float(train_correct)/np.float(train_total)\n",
        "    epoch_accuracy['train'].append(train_acc)\n",
        "        \n",
        "    print('--------------------------------------------------------------')\n",
        "    \n",
        "    clf.train()\n"
      ],
      "execution_count": 8,
      "outputs": [
        {
          "output_type": "stream",
          "text": [
            "/usr/local/lib/python3.6/dist-packages/ipykernel_launcher.py:40: UserWarning: volatile was removed and now has no effect. Use `with torch.no_grad():` instead.\n"
          ],
          "name": "stderr"
        },
        {
          "output_type": "stream",
          "text": [
            "Epoch : 0 Test Acc : 64.010\n",
            "Epoch : 0 Train Loss : 1.090 \n",
            "--------------------------------------------------------------\n",
            "Epoch : 1 Test Acc : 95.500\n",
            "Epoch : 1 Train Loss : 0.155 \n",
            "--------------------------------------------------------------\n",
            "Epoch : 2 Test Acc : 97.520\n",
            "Epoch : 2 Train Loss : 0.089 \n",
            "--------------------------------------------------------------\n",
            "Epoch : 3 Test Acc : 98.530\n",
            "Epoch : 3 Train Loss : 0.055 \n",
            "--------------------------------------------------------------\n",
            "Epoch : 4 Test Acc : 98.360\n",
            "Epoch : 4 Train Loss : 0.060 \n",
            "--------------------------------------------------------------\n",
            "Epoch : 5 Test Acc : 98.560\n",
            "Epoch : 5 Train Loss : 0.045 \n",
            "--------------------------------------------------------------\n",
            "Epoch : 6 Test Acc : 98.170\n",
            "Epoch : 6 Train Loss : 0.066 \n",
            "--------------------------------------------------------------\n",
            "Epoch : 7 Test Acc : 98.890\n",
            "Epoch : 7 Train Loss : 0.033 \n",
            "--------------------------------------------------------------\n",
            "Epoch : 8 Test Acc : 98.790\n",
            "Epoch : 8 Train Loss : 0.031 \n",
            "--------------------------------------------------------------\n",
            "Epoch : 9 Test Acc : 99.010\n",
            "Epoch : 9 Train Loss : 0.027 \n",
            "--------------------------------------------------------------\n"
          ],
          "name": "stdout"
        }
      ]
    },
    {
      "metadata": {
        "id": "bmwU0VWd-o7P",
        "colab_type": "code",
        "outputId": "37d9f9bc-f714-4e20-f039-6803645a2669",
        "colab": {
          "base_uri": "https://localhost:8080/",
          "height": 393
        }
      },
      "cell_type": "code",
      "source": [
        "# plot Train versus Test loss\n",
        "fig = plt.figure()\n",
        "\n",
        "plt.plot(epoch_losses['train'], 'r')\n",
        "plt.plot(epoch_losses['test'])\n",
        "plt.title('model loss')\n",
        "plt.ylabel('loss')\n",
        "plt.xlabel('epoch')\n",
        "plt.legend(['Train', 'Test'])"
      ],
      "execution_count": 13,
      "outputs": [
        {
          "output_type": "execute_result",
          "data": {
            "text/plain": [
              "<matplotlib.legend.Legend at 0x7ff20072e048>"
            ]
          },
          "metadata": {
            "tags": []
          },
          "execution_count": 13
        },
        {
          "output_type": "display_data",
          "data": {
            "image/png": "[encoded data removed]",
            "text/plain": [
              "<Figure size 576x396 with 1 Axes>"
            ]
          },
          "metadata": {
            "tags": []
          }
        }
      ]
    },
    {
      "metadata": {
        "id": "m2L5fpav1y7k",
        "colab_type": "code",
        "outputId": "3877c728-b69b-4b1f-db5e-72f8485e1b4a",
        "colab": {
          "base_uri": "https://localhost:8080/",
          "height": 393
        }
      },
      "cell_type": "code",
      "source": [
        "# plot Train versus Test accuracy\n",
        "fig = plt.figure()\n",
        "\n",
        "plt.plot(epoch_accuracy['train'], 'r')\n",
        "plt.plot(epoch_accuracy['test'])\n",
        "plt.title('model accuracy')\n",
        "plt.ylabel('accuracy')\n",
        "plt.xlabel('epoch')\n",
        "plt.legend(['Train', 'Test'])"
      ],
      "execution_count": 14,
      "outputs": [
        {
          "output_type": "execute_result",
          "data": {
            "text/plain": [
              "<matplotlib.legend.Legend at 0x7ff2006a1e48>"
            ]
          },
          "metadata": {
            "tags": []
          },
          "execution_count": 14
        },
        {
          "output_type": "display_data",
          "data": {
            "image/png": "[encoded data removed]",
            "text/plain": [
              "<Figure size 576x396 with 1 Axes>"
            ]
          },
          "metadata": {
            "tags": []
          }
        }
      ]
    },
    {
      "metadata": {
        "id": "61AwdSvh3etm",
        "colab_type": "code",
        "colab": {}
      },
      "cell_type": "code",
      "source": [
        ""
      ],
      "execution_count": 0,
      "outputs": []
    }
  ]
}